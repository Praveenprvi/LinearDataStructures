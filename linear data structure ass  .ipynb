{
 "cells": [
  {
   "cell_type": "code",
   "execution_count": 1,
   "id": "528f4922",
   "metadata": {},
   "outputs": [
    {
     "name": "stdout",
     "output_type": "stream",
     "text": [
      "Pairs in the array with sum 7:\n",
      "(3, 4)\n",
      "(2, 5)\n",
      "(3, 4)\n",
      "(-2, 9)\n"
     ]
    }
   ],
   "source": [
    "def find_pairs(arr, target_sum):\n",
    "    pairs = []\n",
    "    seen = set()\n",
    "\n",
    "    for num in arr:\n",
    "        complement = target_sum - num\n",
    "        if complement in seen:\n",
    "            pair = (min(num, complement), max(num, complement))\n",
    "            pairs.append(pair)\n",
    "        seen.add(num)\n",
    "\n",
    "    return pairs\n",
    "\n",
    "# Example usage\n",
    "array = [2, 4, 3, 5, 6, -2, 4, 7, 8, 9]\n",
    "target = 7\n",
    "result = find_pairs(array, target)\n",
    "\n",
    "print(f\"Pairs in the array with sum {target}:\")\n",
    "for pair in result:\n",
    "    print(pair)\n"
   ]
  },
  {
   "cell_type": "code",
   "execution_count": 2,
   "id": "47c199be",
   "metadata": {},
   "outputs": [
    {
     "name": "stdout",
     "output_type": "stream",
     "text": [
      "[5, 4, 3, 2, 1]\n"
     ]
    }
   ],
   "source": [
    "def reverse_array(arr):\n",
    "    start = 0\n",
    "    end = len(arr) - 1\n",
    "\n",
    "    while start < end:\n",
    "        arr[start], arr[end] = arr[end], arr[start]\n",
    "        start += 1\n",
    "        end -= 1\n",
    "\n",
    "# Example usage\n",
    "array = [1, 2, 3, 4, 5]\n",
    "reverse_array(array)\n",
    "print(array)\n"
   ]
  },
  {
   "cell_type": "code",
   "execution_count": 3,
   "id": "c4e85499",
   "metadata": {},
   "outputs": [
    {
     "name": "stdout",
     "output_type": "stream",
     "text": [
      "True\n"
     ]
    }
   ],
   "source": [
    "def are_rotations(string1, string2):\n",
    "    if len(string1) != len(string2):\n",
    "        return False\n",
    "\n",
    "    concatenated = string1 + string1\n",
    "\n",
    "    if string2 in concatenated:\n",
    "        return True\n",
    "\n",
    "    return False\n",
    "\n",
    "# Example usage\n",
    "str1 = \"abcde\"\n",
    "str2 = \"cdeab\"\n",
    "result = are_rotations(str1, str2)\n",
    "print(result)\n"
   ]
  },
  {
   "cell_type": "code",
   "execution_count": 4,
   "id": "71b5e6c0",
   "metadata": {},
   "outputs": [
    {
     "name": "stdout",
     "output_type": "stream",
     "text": [
      "d\n"
     ]
    }
   ],
   "source": [
    "def find_first_non_repeated_char(string):\n",
    "    char_count = {}\n",
    "    \n",
    "    for char in string:\n",
    "        char_count[char] = char_count.get(char, 0) + 1\n",
    "\n",
    "    for char in string:\n",
    "        if char_count[char] == 1:\n",
    "            return char\n",
    "    \n",
    "    return None\n",
    "\n",
    "# Example usage\n",
    "string = \"aabbccdeff\"\n",
    "result = find_first_non_repeated_char(string)\n",
    "print(result)\n"
   ]
  },
  {
   "cell_type": "code",
   "execution_count": 5,
   "id": "c551dd05",
   "metadata": {},
   "outputs": [
    {
     "name": "stdout",
     "output_type": "stream",
     "text": [
      "Move disk 1 from A to C\n",
      "Move disk 2 from A to B\n",
      "Move disk 1 from C to B\n",
      "Move disk 3 from A to C\n",
      "Move disk 1 from B to A\n",
      "Move disk 2 from B to C\n",
      "Move disk 1 from A to C\n"
     ]
    }
   ],
   "source": [
    "def tower_of_hanoi(n, source, auxiliary, destination):\n",
    "    if n == 1:\n",
    "        print(f\"Move disk 1 from {source} to {destination}\")\n",
    "        return\n",
    "\n",
    "    tower_of_hanoi(n-1, source, destination, auxiliary)\n",
    "    print(f\"Move disk {n} from {source} to {destination}\")\n",
    "    tower_of_hanoi(n-1, auxiliary, source, destination)\n",
    "\n",
    "# Example usage\n",
    "n_disks = 3\n",
    "tower_of_hanoi(n_disks, 'A', 'B', 'C')\n"
   ]
  },
  {
   "cell_type": "code",
   "execution_count": 6,
   "id": "e250663b",
   "metadata": {},
   "outputs": [
    {
     "name": "stdout",
     "output_type": "stream",
     "text": [
      "*+abc\n"
     ]
    }
   ],
   "source": [
    "def is_operator(char):\n",
    "    operators = ['+', '-', '*', '/']\n",
    "    return char in operators\n",
    "\n",
    "def postfix_to_prefix(expression):\n",
    "    stack = []\n",
    "\n",
    "    for char in expression:\n",
    "        if is_operator(char):\n",
    "            operand2 = stack.pop()\n",
    "            operand1 = stack.pop()\n",
    "            stack.append(char + operand1 + operand2)\n",
    "        else:\n",
    "            stack.append(char)\n",
    "\n",
    "    return stack.pop()\n",
    "\n",
    "# Example usage\n",
    "postfix_exp = \"ab+c*\"\n",
    "prefix_exp = postfix_to_prefix(postfix_exp)\n",
    "print(prefix_exp)\n"
   ]
  },
  {
   "cell_type": "code",
   "execution_count": 7,
   "id": "af136806",
   "metadata": {},
   "outputs": [
    {
     "name": "stdout",
     "output_type": "stream",
     "text": [
      "((a+b)*c)\n"
     ]
    }
   ],
   "source": [
    "def is_operator(char):\n",
    "    operators = ['+', '-', '*', '/']\n",
    "    return char in operators\n",
    "\n",
    "def prefix_to_infix(expression):\n",
    "    stack = []\n",
    "\n",
    "    for char in reversed(expression):\n",
    "        if is_operator(char):\n",
    "            operand1 = stack.pop()\n",
    "            operand2 = stack.pop()\n",
    "            stack.append(f\"({operand1}{char}{operand2})\")\n",
    "        else:\n",
    "            stack.append(char)\n",
    "\n",
    "    return stack.pop()\n",
    "\n",
    "# Example usage\n",
    "prefix_exp = \"*+abc\"\n",
    "infix_exp = prefix_to_infix(prefix_exp)\n",
    "print(infix_exp)\n"
   ]
  },
  {
   "cell_type": "code",
   "execution_count": 8,
   "id": "2af50ed8",
   "metadata": {},
   "outputs": [
    {
     "name": "stdout",
     "output_type": "stream",
     "text": [
      "True\n"
     ]
    }
   ],
   "source": [
    "def check_brackets(code):\n",
    "    stack = []\n",
    "\n",
    "    for char in code:\n",
    "        if char in \"({[\":\n",
    "            stack.append(char)\n",
    "        elif char in \")}]\":\n",
    "            if not stack:\n",
    "                return False\n",
    "            opening_bracket = stack.pop()\n",
    "            if (char == \")\" and opening_bracket != \"(\") or \\\n",
    "               (char == \"}\" and opening_bracket != \"{\") or \\\n",
    "               (char == \"]\" and opening_bracket != \"[\"):\n",
    "                return False\n",
    "\n",
    "    return len(stack) == 0\n",
    "\n",
    "# Example usage\n",
    "code_snippet = \"{[()]}\"\n",
    "result = check_brackets(code_snippet)\n",
    "print(result)\n"
   ]
  },
  {
   "cell_type": "code",
   "execution_count": 9,
   "id": "c4863d2e",
   "metadata": {},
   "outputs": [
    {
     "name": "stdout",
     "output_type": "stream",
     "text": [
      "Original stack:\n",
      "4\n",
      "3\n",
      "2\n",
      "1\n",
      "Reversed stack:\n"
     ]
    }
   ],
   "source": [
    "class Stack:\n",
    "    def __init__(self):\n",
    "        self.items = []\n",
    "\n",
    "    def push(self, item):\n",
    "        self.items.append(item)\n",
    "\n",
    "    def pop(self):\n",
    "        return self.items.pop()\n",
    "\n",
    "    def is_empty(self):\n",
    "        return len(self.items) == 0\n",
    "\n",
    "    def size(self):\n",
    "        return len(self.items)\n",
    "\n",
    "\n",
    "def reverse_stack(stack):\n",
    "    if stack.is_empty():\n",
    "        return\n",
    "\n",
    "    temp = stack.pop()\n",
    "    reverse_stack(stack)\n",
    "    insert_at_bottom(stack, temp)\n",
    "\n",
    "\n",
    "def insert_at_bottom(stack, item):\n",
    "    if stack.is_empty():\n",
    "        stack.push(item)\n",
    "        return\n",
    "\n",
    "    temp = stack.pop()\n",
    "    insert_at_bottom(stack, item)\n",
    "    stack.push(temp)\n",
    "\n",
    "\n",
    "# Example usage\n",
    "stack = Stack()\n",
    "stack.push(1)\n",
    "stack.push(2)\n",
    "stack.push(3)\n",
    "stack.push(4)\n",
    "\n",
    "print(\"Original stack:\")\n",
    "while not stack.is_empty():\n",
    "    print(stack.pop())\n",
    "\n",
    "reverse_stack(stack)\n",
    "\n",
    "print(\"Reversed stack:\")\n",
    "while not stack.is_empty():\n",
    "    print(stack.pop())\n"
   ]
  },
  {
   "cell_type": "code",
   "execution_count": 10,
   "id": "6ba32ee5",
   "metadata": {},
   "outputs": [
    {
     "name": "stdout",
     "output_type": "stream",
     "text": [
      "The smallest number in the stack is: 1\n"
     ]
    }
   ],
   "source": [
    "class Stack:\n",
    "    def __init__(self):\n",
    "        self.items = []\n",
    "\n",
    "    def push(self, item):\n",
    "        self.items.append(item)\n",
    "\n",
    "    def pop(self):\n",
    "        return self.items.pop()\n",
    "\n",
    "    def is_empty(self):\n",
    "        return len(self.items) == 0\n",
    "\n",
    "    def size(self):\n",
    "        return len(self.items)\n",
    "\n",
    "\n",
    "def find_smallest_number(stack):\n",
    "    if stack.is_empty():\n",
    "        return None\n",
    "\n",
    "    smallest = stack.pop()\n",
    "\n",
    "    if stack.is_empty():\n",
    "        return smallest\n",
    "\n",
    "    next_smallest = find_smallest_number(stack)\n",
    "\n",
    "    if next_smallest is None or smallest < next_smallest:\n",
    "        return smallest\n",
    "    else:\n",
    "        return next_smallest\n",
    "\n",
    "\n",
    "# Example usage\n",
    "stack = Stack()\n",
    "stack.push(5)\n",
    "stack.push(2)\n",
    "stack.push(10)\n",
    "stack.push(1)\n",
    "\n",
    "smallest = find_smallest_number(stack)\n",
    "print(f\"The smallest number in the stack is: {smallest}\")\n"
   ]
  },
  {
   "cell_type": "code",
   "execution_count": null,
   "id": "15986c77",
   "metadata": {},
   "outputs": [],
   "source": []
  }
 ],
 "metadata": {
  "kernelspec": {
   "display_name": "Python 3 (ipykernel)",
   "language": "python",
   "name": "python3"
  },
  "language_info": {
   "codemirror_mode": {
    "name": "ipython",
    "version": 3
   },
   "file_extension": ".py",
   "mimetype": "text/x-python",
   "name": "python",
   "nbconvert_exporter": "python",
   "pygments_lexer": "ipython3",
   "version": "3.10.9"
  }
 },
 "nbformat": 4,
 "nbformat_minor": 5
}
